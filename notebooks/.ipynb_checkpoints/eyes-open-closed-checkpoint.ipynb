{
 "cells": [
  {
   "cell_type": "code",
   "execution_count": 12,
   "metadata": {
    "collapsed": true
   },
   "outputs": [],
   "source": [
    "% matplotlib inline"
   ]
  },
  {
   "cell_type": "code",
   "execution_count": 36,
   "metadata": {
    "collapsed": true
   },
   "outputs": [],
   "source": [
    "import matplotlib.pyplot as plt\n",
    "import pandas as pd\n",
    "import numpy as np\n",
    "import pylab\n",
    "import os"
   ]
  },
  {
   "cell_type": "code",
   "execution_count": 41,
   "metadata": {
    "collapsed": false
   },
   "outputs": [],
   "source": [
    "file = 'test-5-nap.csv'\n",
    "pathlib = '/Users/ethan/Dropbox/Documents/Research/Projects_current/alpha_test/functions'\n",
    "pathdata = '/Users/ethan/Dropbox/Documents/Research/Projects_current/alpha_test/data/test-2'\n",
    "\n",
    "os.chdir(pathlib)\n",
    "import NoiseInspect as ni\n",
    "\n",
    "os.chdir(pathdata)\n",
    "df = pd.read_csv(file, sep=',')"
   ]
  },
  {
   "cell_type": "code",
   "execution_count": 38,
   "metadata": {
    "collapsed": false
   },
   "outputs": [
    {
     "data": {
      "text/html": [
       "<div>\n",
       "<table border=\"1\" class=\"dataframe\">\n",
       "  <thead>\n",
       "    <tr style=\"text-align: right;\">\n",
       "      <th></th>\n",
       "      <th>Time (s)</th>\n",
       "      <th>Channel 1</th>\n",
       "      <th>Channel 2</th>\n",
       "      <th>Channel 3</th>\n",
       "      <th>Channel 4</th>\n",
       "      <th>Channel 5</th>\n",
       "      <th>Channel 6</th>\n",
       "      <th>Channel 7</th>\n",
       "      <th>Channel 8</th>\n",
       "      <th>Channel 9</th>\n",
       "      <th>Channel 10</th>\n",
       "      <th>Channel 11</th>\n",
       "      <th>Channel 12</th>\n",
       "      <th>Channel 13</th>\n",
       "      <th>Channel 14</th>\n",
       "      <th>Channel 15</th>\n",
       "      <th>Channel 16</th>\n",
       "      <th>Trigger line</th>\n",
       "      <th>Sampling Rate</th>\n",
       "    </tr>\n",
       "  </thead>\n",
       "  <tbody>\n",
       "    <tr>\n",
       "      <th>0</th>\n",
       "      <td>0.000000</td>\n",
       "      <td>-924871.0</td>\n",
       "      <td>768.0</td>\n",
       "      <td>102231.0</td>\n",
       "      <td>-1050593.0</td>\n",
       "      <td>-495618.0</td>\n",
       "      <td>-683527.0</td>\n",
       "      <td>-552639.0</td>\n",
       "      <td>267465.0</td>\n",
       "      <td>210114.0</td>\n",
       "      <td>-419747.0</td>\n",
       "      <td>2.147440e+09</td>\n",
       "      <td>-2193379.0</td>\n",
       "      <td>177464.0</td>\n",
       "      <td>464688.0</td>\n",
       "      <td>465033.0</td>\n",
       "      <td>-2008360.0</td>\n",
       "      <td>0.0</td>\n",
       "      <td>512.0</td>\n",
       "    </tr>\n",
       "    <tr>\n",
       "      <th>1</th>\n",
       "      <td>0.001953</td>\n",
       "      <td>-920832.0</td>\n",
       "      <td>768.0</td>\n",
       "      <td>108071.0</td>\n",
       "      <td>-1050353.0</td>\n",
       "      <td>-494831.0</td>\n",
       "      <td>-669407.0</td>\n",
       "      <td>-551605.0</td>\n",
       "      <td>273109.0</td>\n",
       "      <td>211578.0</td>\n",
       "      <td>-418156.0</td>\n",
       "      <td>-2.147446e+09</td>\n",
       "      <td>-2192520.0</td>\n",
       "      <td>180420.0</td>\n",
       "      <td>466846.0</td>\n",
       "      <td>466352.0</td>\n",
       "      <td>-2008149.0</td>\n",
       "      <td>0.0</td>\n",
       "      <td>NaN</td>\n",
       "    </tr>\n",
       "    <tr>\n",
       "      <th>2</th>\n",
       "      <td>0.003906</td>\n",
       "      <td>-926040.0</td>\n",
       "      <td>768.0</td>\n",
       "      <td>100380.0</td>\n",
       "      <td>-1050761.0</td>\n",
       "      <td>-495883.0</td>\n",
       "      <td>-688623.0</td>\n",
       "      <td>-552760.0</td>\n",
       "      <td>265295.0</td>\n",
       "      <td>209855.0</td>\n",
       "      <td>-420296.0</td>\n",
       "      <td>2.147451e+09</td>\n",
       "      <td>-2193428.0</td>\n",
       "      <td>176716.0</td>\n",
       "      <td>463728.0</td>\n",
       "      <td>464142.0</td>\n",
       "      <td>-2008376.0</td>\n",
       "      <td>0.0</td>\n",
       "      <td>NaN</td>\n",
       "    </tr>\n",
       "    <tr>\n",
       "      <th>3</th>\n",
       "      <td>0.005859</td>\n",
       "      <td>-926479.0</td>\n",
       "      <td>768.0</td>\n",
       "      <td>98149.0</td>\n",
       "      <td>-1050774.0</td>\n",
       "      <td>-496160.0</td>\n",
       "      <td>-693997.0</td>\n",
       "      <td>-552767.0</td>\n",
       "      <td>262512.0</td>\n",
       "      <td>209543.0</td>\n",
       "      <td>-420749.0</td>\n",
       "      <td>2.147399e+09</td>\n",
       "      <td>-2193481.0</td>\n",
       "      <td>176404.0</td>\n",
       "      <td>463127.0</td>\n",
       "      <td>464393.0</td>\n",
       "      <td>-2008435.0</td>\n",
       "      <td>0.0</td>\n",
       "      <td>NaN</td>\n",
       "    </tr>\n",
       "    <tr>\n",
       "      <th>4</th>\n",
       "      <td>0.007813</td>\n",
       "      <td>-923028.0</td>\n",
       "      <td>768.0</td>\n",
       "      <td>104323.0</td>\n",
       "      <td>-1050456.0</td>\n",
       "      <td>-495101.0</td>\n",
       "      <td>-679528.0</td>\n",
       "      <td>-551238.0</td>\n",
       "      <td>268241.0</td>\n",
       "      <td>211608.0</td>\n",
       "      <td>-419258.0</td>\n",
       "      <td>2.147423e+09</td>\n",
       "      <td>-2192577.0</td>\n",
       "      <td>181691.0</td>\n",
       "      <td>465643.0</td>\n",
       "      <td>467178.0</td>\n",
       "      <td>-2008341.0</td>\n",
       "      <td>0.0</td>\n",
       "      <td>NaN</td>\n",
       "    </tr>\n",
       "  </tbody>\n",
       "</table>\n",
       "</div>"
      ],
      "text/plain": [
       "   Time (s)  Channel 1  Channel 2  Channel 3  Channel 4  Channel 5  Channel 6  \\\n",
       "0  0.000000  -924871.0      768.0   102231.0 -1050593.0  -495618.0  -683527.0   \n",
       "1  0.001953  -920832.0      768.0   108071.0 -1050353.0  -494831.0  -669407.0   \n",
       "2  0.003906  -926040.0      768.0   100380.0 -1050761.0  -495883.0  -688623.0   \n",
       "3  0.005859  -926479.0      768.0    98149.0 -1050774.0  -496160.0  -693997.0   \n",
       "4  0.007813  -923028.0      768.0   104323.0 -1050456.0  -495101.0  -679528.0   \n",
       "\n",
       "   Channel 7  Channel 8  Channel 9  Channel 10    Channel 11  Channel 12  \\\n",
       "0  -552639.0   267465.0   210114.0   -419747.0  2.147440e+09  -2193379.0   \n",
       "1  -551605.0   273109.0   211578.0   -418156.0 -2.147446e+09  -2192520.0   \n",
       "2  -552760.0   265295.0   209855.0   -420296.0  2.147451e+09  -2193428.0   \n",
       "3  -552767.0   262512.0   209543.0   -420749.0  2.147399e+09  -2193481.0   \n",
       "4  -551238.0   268241.0   211608.0   -419258.0  2.147423e+09  -2192577.0   \n",
       "\n",
       "   Channel 13  Channel 14  Channel 15  Channel 16  Trigger line  Sampling Rate  \n",
       "0    177464.0    464688.0    465033.0  -2008360.0           0.0          512.0  \n",
       "1    180420.0    466846.0    466352.0  -2008149.0           0.0            NaN  \n",
       "2    176716.0    463728.0    464142.0  -2008376.0           0.0            NaN  \n",
       "3    176404.0    463127.0    464393.0  -2008435.0           0.0            NaN  \n",
       "4    181691.0    465643.0    467178.0  -2008341.0           0.0            NaN  "
      ]
     },
     "execution_count": 38,
     "metadata": {},
     "output_type": "execute_result"
    }
   ],
   "source": [
    "df.head(n=5)"
   ]
  },
  {
   "cell_type": "code",
   "execution_count": 39,
   "metadata": {
    "collapsed": false
   },
   "outputs": [
    {
     "ename": "NameError",
     "evalue": "name 'np' is not defined",
     "output_type": "error",
     "traceback": [
      "\u001b[0;31m---------------------------------------------------------------------------\u001b[0m",
      "\u001b[0;31mNameError\u001b[0m                                 Traceback (most recent call last)",
      "\u001b[0;32m<ipython-input-39-0450ca7d8b94>\u001b[0m in \u001b[0;36m<module>\u001b[0;34m()\u001b[0m\n\u001b[1;32m      7\u001b[0m \u001b[0;34m\u001b[0m\u001b[0m\n\u001b[1;32m      8\u001b[0m \u001b[0;34m\u001b[0m\u001b[0m\n\u001b[0;32m----> 9\u001b[0;31m \u001b[0mni\u001b[0m\u001b[0;34m.\u001b[0m\u001b[0mrunFFT\u001b[0m\u001b[0;34m(\u001b[0m\u001b[0mdata\u001b[0m\u001b[0;34m,\u001b[0m \u001b[0mchans\u001b[0m\u001b[0;34m,\u001b[0m \u001b[0mlow_cutoff\u001b[0m\u001b[0;34m,\u001b[0m \u001b[0mhigh_cutoff\u001b[0m\u001b[0;34m)\u001b[0m\u001b[0;34m\u001b[0m\u001b[0m\n\u001b[0m\u001b[1;32m     10\u001b[0m \u001b[0;34m\u001b[0m\u001b[0m\n\u001b[1;32m     11\u001b[0m \u001b[0;31m# get time-stamp data\u001b[0m\u001b[0;34m\u001b[0m\u001b[0;34m\u001b[0m\u001b[0m\n",
      "\u001b[0;32m/Users/ethan/Dropbox/Documents/Research/Projects_current/alpha_test/functions/NoiseInspect.py\u001b[0m in \u001b[0;36mrunFFT\u001b[0;34m(data, chans, low_cutoff, high_cutoff)\u001b[0m\n\u001b[1;32m      8\u001b[0m                 \u001b[0my\u001b[0m \u001b[0;34m=\u001b[0m \u001b[0mdata\u001b[0m\u001b[0;34m[\u001b[0m\u001b[0;34m:\u001b[0m\u001b[0;34m,\u001b[0m\u001b[0ms\u001b[0m\u001b[0;34m]\u001b[0m\u001b[0;34m\u001b[0m\u001b[0m\n\u001b[1;32m      9\u001b[0m \u001b[0;34m\u001b[0m\u001b[0m\n\u001b[0;32m---> 10\u001b[0;31m                 \u001b[0mY\u001b[0m    \u001b[0;34m=\u001b[0m \u001b[0mnp\u001b[0m\u001b[0;34m.\u001b[0m\u001b[0mfft\u001b[0m\u001b[0;34m.\u001b[0m\u001b[0mfft\u001b[0m\u001b[0;34m(\u001b[0m\u001b[0my\u001b[0m\u001b[0;34m)\u001b[0m\u001b[0;34m\u001b[0m\u001b[0m\n\u001b[0m\u001b[1;32m     11\u001b[0m                 \u001b[0mfreq\u001b[0m \u001b[0;34m=\u001b[0m \u001b[0mnp\u001b[0m\u001b[0;34m.\u001b[0m\u001b[0mfft\u001b[0m\u001b[0;34m.\u001b[0m\u001b[0mfftfreq\u001b[0m\u001b[0;34m(\u001b[0m\u001b[0mlen\u001b[0m\u001b[0;34m(\u001b[0m\u001b[0my\u001b[0m\u001b[0;34m)\u001b[0m\u001b[0;34m,\u001b[0m \u001b[0mt\u001b[0m\u001b[0;34m[\u001b[0m\u001b[0;36m1\u001b[0m\u001b[0;34m]\u001b[0m \u001b[0;34m-\u001b[0m \u001b[0mt\u001b[0m\u001b[0;34m[\u001b[0m\u001b[0;36m0\u001b[0m\u001b[0;34m]\u001b[0m\u001b[0;34m)\u001b[0m\u001b[0;34m\u001b[0m\u001b[0m\n\u001b[1;32m     12\u001b[0m \u001b[0;34m\u001b[0m\u001b[0m\n",
      "\u001b[0;31mNameError\u001b[0m: name 'np' is not defined"
     ]
    }
   ],
   "source": [
    "\n",
    "data = df.as_matrix()\n",
    "low_cutoff = 1\n",
    "high_cutoff = 60\n",
    "\n",
    "chans = [1,3,4,5,6,7,8,9,10,11,12,13,14,15,16]\n",
    "\n",
    "\n",
    "ni.runFFT(data, chans, low_cutoff, high_cutoff)\n",
    "\n",
    "# get time-stamp data\n",
    "\n",
    "#t = data[:,0]\n",
    "\n",
    "#for s in chans:\n",
    "#    y = data[:,s]\n",
    "\n",
    "#    Y    = np.fft.fft(y)\n",
    "#    freq = np.fft.fftfreq(len(y), t[1] - t[0])\n",
    "\n",
    "    # remove DC (non-varying) component\n",
    "#    freq = freq[1:]\n",
    "#    Y = np.abs(Y[1:])\n",
    "\n",
    "#    pylab.figure()\n",
    "#    pylab.plot( freq, Y )\n",
    "#    plt.xlabel('Channel '+str(s))\n",
    "\n",
    "    #pp.savefig()\n",
    "#    plt.xlim(low_cutoff,high_cutoff)\n",
    "    #plt.ylim(0,0.2)"
   ]
  },
  {
   "cell_type": "code",
   "execution_count": null,
   "metadata": {
    "collapsed": true
   },
   "outputs": [],
   "source": []
  }
 ],
 "metadata": {
  "anaconda-cloud": {},
  "kernelspec": {
   "display_name": "Python [conda root]",
   "language": "python",
   "name": "conda-root-py"
  },
  "language_info": {
   "codemirror_mode": {
    "name": "ipython",
    "version": 3
   },
   "file_extension": ".py",
   "mimetype": "text/x-python",
   "name": "python",
   "nbconvert_exporter": "python",
   "pygments_lexer": "ipython3",
   "version": "3.5.2"
  }
 },
 "nbformat": 4,
 "nbformat_minor": 1
}
