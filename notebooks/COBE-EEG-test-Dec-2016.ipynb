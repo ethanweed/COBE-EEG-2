{
 "cells": [
  {
   "cell_type": "markdown",
   "metadata": {},
   "source": [
    "\n",
    "Notes:\n",
    "2016-20-12 \n",
    "Recording using Mensia Launcher\n",
    "All electrodes occiptial\n",
    "Triggers are recorded in channel 2\n",
    "768 + 769\n",
    "test-1-EO: 2 minutes, eyes open\n",
    "test-2-EC: 2 minutes, eyes closed\n",
    "test-3-EO: 2 minutes, eyes open\n",
    "test-4-EC: 2 minutes, eys closed - laughed a few times\n",
    "test-5-nap\n"
   ]
  }
 ],
 "metadata": {
  "kernelspec": {
   "display_name": "Python [swc]",
   "language": "python",
   "name": "Python [swc]"
  },
  "language_info": {
   "codemirror_mode": {
    "name": "ipython",
    "version": 3
   },
   "file_extension": ".py",
   "mimetype": "text/x-python",
   "name": "python",
   "nbconvert_exporter": "python",
   "pygments_lexer": "ipython3",
   "version": "3.5.2"
  }
 },
 "nbformat": 4,
 "nbformat_minor": 0
}
